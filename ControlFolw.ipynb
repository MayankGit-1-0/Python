{
 "cells": [
  {
   "cell_type": "markdown",
   "metadata": {},
   "source": [
    "# Conditional Statements\n",
    "    \n",
    "    1.if Statement\n",
    "    2.else Statement\n",
    "    3.elif Statement\n",
    "    4.Nested if else "
   ]
  },
  {
   "cell_type": "code",
   "execution_count": 1,
   "metadata": {},
   "outputs": [
    {
     "name": "stdout",
     "output_type": "stream",
     "text": [
      "zero\n"
     ]
    }
   ],
   "source": [
    "## if - elif - else Statement\n",
    "\n",
    "user_input=int(input(\"Provide your Input\"))\n",
    "if(user_input<0):\n",
    "    print(\"negative\")\n",
    "elif(user_input==0):\n",
    "    print(\"zero\")\n",
    "else:\n",
    "    print(\"positive\")"
   ]
  },
  {
   "cell_type": "code",
   "execution_count": null,
   "metadata": {},
   "outputs": [],
   "source": [
    "## Nested if else \n",
    "\n",
    "a=int(input(\"first Number:\"))\n",
    "b=int(input(\"Second Number:\"))\n",
    "c=int(input(\"Third Number:\"))\n",
    "if(a>b):\n",
    "    if(a>c):\n",
    "        print(\"The Greatest no. is:\", a)\n",
    "    else:\n",
    "        print(\"The Greatest no. is:\",c)\n",
    "else:\n",
    "    if(b>c):\n",
    "        print(\"The Greatest no. is:\", b)\n",
    "    else:\n",
    "        print(\"The Greatest no. is:\",c)"
   ]
  },
  {
   "cell_type": "markdown",
   "metadata": {},
   "source": [
    "# Loops and loop Control Statements\n",
    "    \n",
    "    1. for looop\n",
    "        * Iteration over a range\n",
    "        * Iteration over a string\n",
    "\n",
    "    2. while loop\n",
    "\n",
    "    3. loop control statements\n",
    "        * break\n",
    "        * continue\n",
    "        * pass\n",
    "        \n",
    "    4. Nested Loops"
   ]
  },
  {
   "cell_type": "code",
   "execution_count": 11,
   "metadata": {},
   "outputs": [
    {
     "name": "stdout",
     "output_type": "stream",
     "text": [
      "0\n",
      "1\n",
      "2\n",
      "3\n",
      "4\n"
     ]
    }
   ],
   "source": [
    "## for loop\n",
    "\n",
    "for i in range(5): ## 5 is exclusive in nature that is 5 is not in range\n",
    "    print(i)\n"
   ]
  },
  {
   "cell_type": "code",
   "execution_count": null,
   "metadata": {},
   "outputs": [
    {
     "name": "stdout",
     "output_type": "stream",
     "text": [
      "1 2 3 4 \n",
      "1 2 3 4 \n",
      "1 3 5 7 9 \n",
      "10 8 6 4 2 "
     ]
    }
   ],
   "source": [
    "## for loop Range Iteration\n",
    "\n",
    "for i in range(1,5): ## 5 is exclusive in nature that is 5 is not in range\n",
    "    print(i, end=\" \")\n",
    "print()\n",
    "\n",
    "for i in range(1,5): ## 1 is inclusive while 5 is exclusive in nature\n",
    "    print(i, end=\" \")\n",
    "print()\n",
    "\n",
    "for i in range(1,10,2): ## i increments by 2\n",
    "    print(i, end=\" \")\n",
    "print()\n",
    "\n",
    "for i in range(10,1,-2):  ## i increments by -1\n",
    "    print(i, end=\" \") "
   ]
  },
  {
   "cell_type": "code",
   "execution_count": 16,
   "metadata": {},
   "outputs": [
    {
     "name": "stdout",
     "output_type": "stream",
     "text": [
      "Mayank Rai"
     ]
    }
   ],
   "source": [
    "## for loop String iteration\n",
    "\n",
    "str=\"Mayank Rai\"\n",
    "\n",
    "for i in str:\n",
    "    print(i, end=\"\") \n",
    "\n"
   ]
  },
  {
   "cell_type": "code",
   "execution_count": 17,
   "metadata": {},
   "outputs": [
    {
     "name": "stdout",
     "output_type": "stream",
     "text": [
      "0\n",
      "1\n",
      "2\n",
      "3\n",
      "4\n",
      "5\n"
     ]
    }
   ],
   "source": [
    "## while loop\n",
    "\n",
    "count=0\n",
    "\n",
    "while count<6:\n",
    "    print (count)\n",
    "    count+=1"
   ]
  },
  {
   "cell_type": "code",
   "execution_count": 20,
   "metadata": {},
   "outputs": [
    {
     "name": "stdout",
     "output_type": "stream",
     "text": [
      "0\n",
      "2\n",
      "4\n",
      "6\n",
      "8\n"
     ]
    }
   ],
   "source": [
    "## loop control Statement\n",
    "\n",
    "## break\n",
    "\n",
    "count=0\n",
    "\n",
    "while count%2==0:\n",
    "    print (count)\n",
    "    count+=2\n",
    "    if count==10:\n",
    "        break"
   ]
  },
  {
   "cell_type": "code",
   "execution_count": 37,
   "metadata": {},
   "outputs": [
    {
     "name": "stdout",
     "output_type": "stream",
     "text": [
      "0 2 4 6 8 12 "
     ]
    }
   ],
   "source": [
    "## loop control Statement\n",
    "\n",
    "## continue\n",
    "\n",
    "count=0\n",
    "\n",
    "while count%2==0 and count<=12:\n",
    "    if count==10: \n",
    "        count+=2\n",
    "        continue  ## 10 did not get print\n",
    "    print (count,end=\" \")\n",
    "    count+=2\n",
    "    "
   ]
  },
  {
   "cell_type": "code",
   "execution_count": 27,
   "metadata": {},
   "outputs": [
    {
     "name": "stdout",
     "output_type": "stream",
     "text": [
      "0\n",
      "1\n",
      "2\n",
      "yo!\n",
      "3\n",
      "4\n"
     ]
    }
   ],
   "source": [
    "## loop control Statement\n",
    "\n",
    "## pass --> means nothing\n",
    "\n",
    "for i in range(5):\n",
    "    if i==3:\n",
    "        pass\n",
    "        print(\"yo!\")\n",
    "    print(i)"
   ]
  },
  {
   "cell_type": "code",
   "execution_count": 32,
   "metadata": {},
   "outputs": [
    {
     "name": "stdout",
     "output_type": "stream",
     "text": [
      "i:0{0 1 2 }\n",
      "i:1{0 1 2 }\n",
      "i:2{0 1 2 }\n"
     ]
    }
   ],
   "source": [
    "## Nested loop statement\n",
    "\n",
    "for i in range(3):\n",
    "    print(f\"i:{i}\",end=\"{\")\n",
    "    for j in range(3):\n",
    "        print(f\"{j}\",end=\" \")\n",
    "    print(\"}\")"
   ]
  },
  {
   "cell_type": "markdown",
   "metadata": {},
   "source": [
    "# Print all prime numbers from 1 to 100"
   ]
  },
  {
   "cell_type": "code",
   "execution_count": 36,
   "metadata": {},
   "outputs": [
    {
     "name": "stdout",
     "output_type": "stream",
     "text": [
      "2 3 5 7 11 13 17 19 23 29 31 37 41 43 47 53 59 61 67 71 73 79 83 89 97 "
     ]
    }
   ],
   "source": [
    "for i in range(2,101):\n",
    "    for j in range(2,i):\n",
    "        if i%j==0:\n",
    "            break\n",
    "    else:\n",
    "        print(i,end=\" \")"
   ]
  }
 ],
 "metadata": {
  "kernelspec": {
   "display_name": "Python 3",
   "language": "python",
   "name": "python3"
  },
  "language_info": {
   "codemirror_mode": {
    "name": "ipython",
    "version": 3
   },
   "file_extension": ".py",
   "mimetype": "text/x-python",
   "name": "python",
   "nbconvert_exporter": "python",
   "pygments_lexer": "ipython3",
   "version": "3.12.0"
  }
 },
 "nbformat": 4,
 "nbformat_minor": 2
}
