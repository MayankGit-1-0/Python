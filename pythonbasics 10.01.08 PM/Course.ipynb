{
 "cells": [
  {
   "cell_type": "code",
   "execution_count": 1,
   "metadata": {},
   "outputs": [
    {
     "name": "stdout",
     "output_type": "stream",
     "text": [
      "hello world\n"
     ]
    }
   ],
   "source": [
    "print('hello world')"
   ]
  },
  {
   "cell_type": "markdown",
   "metadata": {},
   "source": [
    "Variables in Python "
   ]
  },
  {
   "cell_type": "code",
   "execution_count": null,
   "metadata": {},
   "outputs": [
    {
     "name": "stdout",
     "output_type": "stream",
     "text": [
      "Mayank Rai\n",
      "Age: 22\n",
      "True\n"
     ]
    }
   ],
   "source": [
    "\n",
    "name=\"Mayank Rai\"\n",
    "print(name)\n",
    "\n",
    "age=22\n",
    "print(\"Age:\",age) ## You can also Assign values to print\n",
    "\n",
    "isMale=True\n",
    "print(isMale)"
   ]
  },
  {
   "cell_type": "code",
   "execution_count": 1,
   "metadata": {},
   "outputs": [
    {
     "data": {
      "text/plain": [
       "False"
      ]
     },
     "execution_count": 1,
     "metadata": {},
     "output_type": "execute_result"
    }
   ],
   "source": [
    "## case Sensitive\n",
    "Name=\"Mayank\"\n",
    "name=\"Rai\"\n",
    "\n",
    "name==Name"
   ]
  },
  {
   "cell_type": "code",
   "execution_count": null,
   "metadata": {},
   "outputs": [
    {
     "name": "stdout",
     "output_type": "stream",
     "text": [
      "<class 'int'>\n",
      "<class 'str'>\n"
     ]
    }
   ],
   "source": [
    "## Variables in python are dynamically typed\n",
    "## that is to say type of any variable is determined at runtime\n",
    "age=22\n",
    "height=6.1\n",
    "print(type(age))\n",
    "print(type(name))"
   ]
  },
  {
   "cell_type": "code",
   "execution_count": null,
   "metadata": {},
   "outputs": [
    {
     "name": "stdout",
     "output_type": "stream",
     "text": [
      "<class 'str'>\n",
      "6\n"
     ]
    },
    {
     "data": {
      "text/plain": [
       "int"
      ]
     },
     "execution_count": 7,
     "metadata": {},
     "output_type": "execute_result"
    }
   ],
   "source": [
    "age=22\n",
    "height=6.1\n",
    " \n",
    "## Type conversion\n",
    "age_str=str(age)\n",
    "print(type(age))\n",
    "height=int(height)\n",
    "print(height)\n",
    "type(height)"
   ]
  },
  {
   "cell_type": "code",
   "execution_count": 9,
   "metadata": {},
   "outputs": [
    {
     "name": "stdout",
     "output_type": "stream",
     "text": [
      "10 <class 'int'>\n",
      "6.1 <class 'str'>\n"
     ]
    }
   ],
   "source": [
    "## Dynamic allocation of variable\n",
    "## Python allows the type of any variable to change at any point in program\n",
    "\n",
    "var=10\n",
    "print(var,type(var))\n",
    "\n",
    "#Dynamic change\n",
    "\n",
    "var=\"6.1\"\n",
    "print(var,type(var))"
   ]
  },
  {
   "cell_type": "code",
   "execution_count": 14,
   "metadata": {},
   "outputs": [
    {
     "name": "stdout",
     "output_type": "stream",
     "text": [
      "Mayank <class 'str'>\n",
      "22 <class 'int'>\n"
     ]
    }
   ],
   "source": [
    "## Input in Python\n",
    "\n",
    "name=input(\"What is Your Name:\")\n",
    "print (name, type(name))\n",
    "\n",
    "age=int(input(\"what is your age:\"))\n",
    "print(age,type(age))\n"
   ]
  }
 ],
 "metadata": {
  "kernelspec": {
   "display_name": "Python 3",
   "language": "python",
   "name": "python3"
  },
  "language_info": {
   "codemirror_mode": {
    "name": "ipython",
    "version": 3
   },
   "file_extension": ".py",
   "mimetype": "text/x-python",
   "name": "python",
   "nbconvert_exporter": "python",
   "pygments_lexer": "ipython3",
   "version": "3.12.0"
  }
 },
 "nbformat": 4,
 "nbformat_minor": 2
}
