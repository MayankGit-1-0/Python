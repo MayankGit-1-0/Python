{
 "cells": [
  {
   "cell_type": "code",
   "execution_count": 1,
   "metadata": {},
   "outputs": [
    {
     "name": "stdout",
     "output_type": "stream",
     "text": [
      "hello world\n"
     ]
    }
   ],
   "source": [
    "print('hello world')"
   ]
  },
  {
   "cell_type": "code",
   "execution_count": null,
   "metadata": {},
   "outputs": [
    {
     "name": "stdout",
     "output_type": "stream",
     "text": [
      "Mayank Rai\n",
      "Age: 22\n",
      "True\n"
     ]
    }
   ],
   "source": [
    "\n",
    "name=\"Mayank Rai\"\n",
    "print(name)\n",
    "\n",
    "age=22\n",
    "print(\"Age:\",age) ## You can also Assign values to print\n",
    "\n",
    "isMale=True\n",
    "print(isMale)"
   ]
  },
  {
   "cell_type": "markdown",
   "metadata": {},
   "source": [
    "# Variables And Data Types in Python"
   ]
  },
  {
   "cell_type": "code",
   "execution_count": 1,
   "metadata": {},
   "outputs": [
    {
     "data": {
      "text/plain": [
       "False"
      ]
     },
     "execution_count": 1,
     "metadata": {},
     "output_type": "execute_result"
    }
   ],
   "source": [
    "## case Sensitive\n",
    "Name=\"Mayank\"\n",
    "name=\"Rai\"\n",
    "\n",
    "name==Name"
   ]
  },
  {
   "cell_type": "code",
   "execution_count": null,
   "metadata": {},
   "outputs": [
    {
     "name": "stdout",
     "output_type": "stream",
     "text": [
      "<class 'int'>\n",
      "<class 'str'>\n"
     ]
    }
   ],
   "source": [
    "## Variables in python are dynamically typed\n",
    "## that is to say type of any variable is determined at runtime\n",
    "age=22\n",
    "height=6.1\n",
    "print(type(age))\n",
    "print(type(name))"
   ]
  },
  {
   "cell_type": "markdown",
   "metadata": {},
   "source": [
    "## Different data types"
   ]
  },
  {
   "cell_type": "code",
   "execution_count": 5,
   "metadata": {},
   "outputs": [
    {
     "name": "stdout",
     "output_type": "stream",
     "text": [
      "<class 'str'>\n",
      "<class 'int'>\n",
      "<class 'float'>\n",
      "<class 'bool'>\n",
      "<class 'NoneType'>\n"
     ]
    }
   ],
   "source": [
    "name=\"Mayank\"\n",
    "print(type(name))\n",
    "age=22\n",
    "print(type(age))\n",
    "height=6.1\n",
    "print(type(height))\n",
    "isMale=True\n",
    "print(type(isMale))\n",
    "nothing=None\n",
    "print(type(nothing))\n"
   ]
  },
  {
   "cell_type": "markdown",
   "metadata": {},
   "source": [
    "## Type Conversion"
   ]
  },
  {
   "cell_type": "code",
   "execution_count": null,
   "metadata": {},
   "outputs": [
    {
     "name": "stdout",
     "output_type": "stream",
     "text": [
      "<class 'str'>\n",
      "6\n"
     ]
    },
    {
     "data": {
      "text/plain": [
       "int"
      ]
     },
     "execution_count": 7,
     "metadata": {},
     "output_type": "execute_result"
    }
   ],
   "source": [
    "age=22\n",
    "height=6.1\n",
    " \n",
    "## Type conversion\n",
    "age_str=str(age)\n",
    "print(type(age))\n",
    "height=int(height)\n",
    "print(height)\n",
    "type(height)"
   ]
  },
  {
   "cell_type": "code",
   "execution_count": 9,
   "metadata": {},
   "outputs": [
    {
     "name": "stdout",
     "output_type": "stream",
     "text": [
      "10 <class 'int'>\n",
      "6.1 <class 'str'>\n"
     ]
    }
   ],
   "source": [
    "## Dynamic allocation of variable\n",
    "## Python allows the type of any variable to change at any point in program\n",
    "\n",
    "var=10\n",
    "print(var,type(var))\n",
    "\n",
    "#Dynamic change\n",
    "\n",
    "var=\"6.1\"\n",
    "print(var,type(var))"
   ]
  },
  {
   "cell_type": "code",
   "execution_count": 14,
   "metadata": {},
   "outputs": [
    {
     "name": "stdout",
     "output_type": "stream",
     "text": [
      "Mayank <class 'str'>\n",
      "22 <class 'int'>\n"
     ]
    }
   ],
   "source": [
    "## Input in Python\n",
    "\n",
    "name=input(\"What is Your Name:\")\n",
    "print (name, type(name))\n",
    "\n",
    "age=int(input(\"what is your age:\"))\n",
    "print(age,type(age))\n"
   ]
  },
  {
   "cell_type": "markdown",
   "metadata": {},
   "source": [
    "# Operators in Python"
   ]
  },
  {
   "cell_type": "markdown",
   "metadata": {},
   "source": [
    "## 1.Airthmetic Operators\n",
    "\n",
    "    1.Addition          -> \"+\"\n",
    "    2.Subtraction       -> \"-\"\n",
    "    3.Multiplication    -> \"*\"\n",
    "    4.Division          -> \"/\"\n",
    "    5.Floor Division    -> \"//\"\n",
    "    6.Modulus           ->\"%\"\n",
    "    7.Exponential       -> \"**\"\n"
   ]
  },
  {
   "cell_type": "code",
   "execution_count": 10,
   "metadata": {},
   "outputs": [
    {
     "name": "stdout",
     "output_type": "stream",
     "text": [
      "15\n",
      "5\n",
      "50\n",
      "2.0\n",
      "2\n",
      "0\n",
      "100000\n"
     ]
    }
   ],
   "source": [
    "a=10\n",
    "b=5\n",
    "\n",
    "## Addition  --> add the variables\n",
    "print(a+b)\n",
    "\n",
    "## Subtraction --> subtract b from a\n",
    "print(a-b)\n",
    "\n",
    "## Multiplication --> Multiply a and b\n",
    "print(a*b)\n",
    "\n",
    "## Division  --> divide a by b\n",
    "print(a/b)\n",
    "\n",
    "## Floor Division --> divide a by b and return integer \n",
    "print(a//b)\n",
    "\n",
    "## Modulus  -->  return the remainder when dividing a  by b\n",
    "print(a%b)\n",
    "\n",
    "## Exponential --> returns the result of the a to the power b\n",
    "print(a**b)\n"
   ]
  }
 ],
 "metadata": {
  "kernelspec": {
   "display_name": "Python 3",
   "language": "python",
   "name": "python3"
  },
  "language_info": {
   "codemirror_mode": {
    "name": "ipython",
    "version": 3
   },
   "file_extension": ".py",
   "mimetype": "text/x-python",
   "name": "python",
   "nbconvert_exporter": "python",
   "pygments_lexer": "ipython3",
   "version": "3.12.0"
  }
 },
 "nbformat": 4,
 "nbformat_minor": 2
}
