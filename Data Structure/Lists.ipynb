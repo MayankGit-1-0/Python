{
 "cells": [
  {
   "cell_type": "markdown",
   "metadata": {},
   "source": [
    "# Lists In Python\n",
    "\n",
    "    --> Orderd,Mutable collection of items.\n",
    "    --> We can store different data types in Lists.\n",
    "\n"
   ]
  },
  {
   "cell_type": "markdown",
   "metadata": {},
   "source": [
    " ##  Content\n",
    "\n",
    "    --> List creation, indexing, modification\n",
    "    --> List methods, iteration\n",
    "    --> List slicing\n",
    "    --> List comprehension\n",
    "    --> Nested Comprehension"
   ]
  },
  {
   "cell_type": "code",
   "execution_count": 58,
   "metadata": {},
   "outputs": [
    {
     "name": "stdout",
     "output_type": "stream",
     "text": [
      "[1, 'hello', 3.2, True]\n"
     ]
    }
   ],
   "source": [
    "## creation\n",
    "\n",
    "list=[1,\"hello\",3.2,True]\n",
    "print(list)"
   ]
  },
  {
   "cell_type": "code",
   "execution_count": 59,
   "metadata": {},
   "outputs": [
    {
     "name": "stdout",
     "output_type": "stream",
     "text": [
      "hello\n",
      "3.2\n"
     ]
    }
   ],
   "source": [
    "## indexing\n",
    "\n",
    "print(list[1]) ## 0 indexing\n",
    "\n",
    "print(list[-2]) ## negative indexing"
   ]
  },
  {
   "cell_type": "code",
   "execution_count": 60,
   "metadata": {},
   "outputs": [
    {
     "name": "stdout",
     "output_type": "stream",
     "text": [
      "['Apple', 'Banana', 'Guvava', 'Watermelon', 'peach']\n",
      "['Apple', 'Banana', 'Guvava', 'Watermelon', 'kiwi']\n"
     ]
    }
   ],
   "source": [
    "## Modification\n",
    " \n",
    "fruits=[\"Apple\",\"Banana\",\"Guvava\",\"Watermelon\",\"peach\"]\n",
    "print(fruits)\n",
    "\n",
    "fruits[4]=\"kiwi\"\n",
    "print(fruits)\n"
   ]
  },
  {
   "cell_type": "code",
   "execution_count": 61,
   "metadata": {},
   "outputs": [
    {
     "name": "stdout",
     "output_type": "stream",
     "text": [
      "['Apple', 'Banana', 'Guvava', 'Watermelon', 'kiwi', 'peach']\n",
      "['Apple', 'Banana', 'Guvava', 'pear', 'Watermelon', 'kiwi', 'peach']\n",
      "['Apple', 'Banana', 'Guvava', 'Watermelon', 'kiwi']\n",
      "1\n",
      "['Apple', 'Banana', 'Guvava', 'Watermelon', 'kiwi']\n",
      "['kiwi', 'Watermelon', 'Guvava', 'Banana', 'Apple']\n",
      "Apple\n",
      "['kiwi', 'Watermelon', 'Guvava', 'Banana']\n"
     ]
    },
    {
     "data": {
      "text/plain": [
       "0"
      ]
     },
     "execution_count": 61,
     "metadata": {},
     "output_type": "execute_result"
    }
   ],
   "source": [
    "## Methods\n",
    "\n",
    "fruits.append(\"peach\") # adds elementat the end of list\n",
    "print(fruits)\n",
    "\n",
    "fruits.insert(3,\"pear\") #inserts element at specific index\n",
    "print(fruits)\n",
    "\n",
    "fruits.remove(\"pear\") # remove the first occurence of element \n",
    "fruits.remove(\"peach\")\n",
    "print(fruits)\n",
    "\n",
    "cnt=fruits.count(\"kiwi\") #counts no. of occurence of the element\n",
    "print(cnt)\n",
    "\n",
    "fruits.sort() # sorts list in ascending order\n",
    "print(fruits)\n",
    "\n",
    "fruits.reverse() # reverses the list\n",
    "print(fruits)\n",
    "\n",
    "fruit=fruits.pop() # removes and returns the last element of the list\n",
    "print(fruit)\n",
    "print(fruits)\n",
    "\n",
    "\n",
    "fruits.index(\"kiwi\") # returns the index of the first occurence of the element"
   ]
  },
  {
   "cell_type": "code",
   "execution_count": 62,
   "metadata": {},
   "outputs": [
    {
     "name": "stdout",
     "output_type": "stream",
     "text": [
      "['Apple', 'kiwi', 'Watermelon', 'Guvava', 'Banana']\n"
     ]
    }
   ],
   "source": [
    "fruits.insert(0,\"Apple\")\n",
    "print(fruits)\n"
   ]
  },
  {
   "cell_type": "code",
   "execution_count": 63,
   "metadata": {},
   "outputs": [
    {
     "name": "stdout",
     "output_type": "stream",
     "text": [
      "0 Apple\n",
      "1 kiwi\n",
      "2 Watermelon\n",
      "3 Guvava\n",
      "4 Banana\n"
     ]
    }
   ],
   "source": [
    "# iteration in list\n",
    "\n",
    "for index,fruit in enumerate(fruits): # use of enumerate\n",
    "    print(index,fruit)"
   ]
  },
  {
   "cell_type": "code",
   "execution_count": 64,
   "metadata": {},
   "outputs": [
    {
     "name": "stdout",
     "output_type": "stream",
     "text": [
      "['Apple', 'kiwi', 'Watermelon', 'Guvava', 'Banana']\n",
      "['kiwi', 'Watermelon', 'Guvava', 'Banana']\n",
      "['Apple', 'kiwi', 'Watermelon', 'Guvava', 'Banana']\n",
      "['kiwi', 'Watermelon', 'Guvava', 'Banana']\n",
      "['Apple', 'kiwi', 'Watermelon', 'Guvava', 'Banana']\n",
      "['Apple', 'Watermelon', 'Banana']\n",
      "['kiwi', 'Watermelon', 'Guvava', 'Banana']\n",
      "['Apple', 'kiwi', 'Watermelon', 'Guvava', 'Banana']\n",
      "['kiwi', 'Watermelon', 'Guvava', 'Banana']\n",
      "['kiwi', 'Guvava']\n",
      "['Apple']\n",
      "['kiwi', 'Guvava']\n",
      "['Banana', 'Watermelon', 'Apple']\n",
      "['kiwi']\n",
      "['Banana', 'Watermelon', 'Apple']\n",
      "['Banana', 'Watermelon', 'Apple']\n",
      "['Banana']\n"
     ]
    }
   ],
   "source": [
    "## List Slicing\n",
    "\n",
    "print(fruits[:])\n",
    "print(fruits[1:])\n",
    "print(fruits[:5])\n",
    "print(fruits[1:5])\n",
    "\n",
    "print(fruits[::])\n",
    "print(fruits[::2])\n",
    "print(fruits[1::])\n",
    "print(fruits[:5:])\n",
    "print(fruits[1:5:])\n",
    "print(fruits[1::2])\n",
    "print(fruits[:2:2])\n",
    "print(fruits[1:5:2])\n",
    "\n",
    "print(fruits[::-2])  # in negative indexing where steps are negative the indexing is always <--(left to right)\n",
    "print(fruits[1::-2])\n",
    "print(fruits[7::-2])\n",
    "print(fruits[-1::-2])\n",
    "print(fruits[:3:-2])\n",
    "\n"
   ]
  },
  {
   "cell_type": "markdown",
   "metadata": {},
   "source": [
    "### Syntax for list comprehension\n",
    "\n",
    "    --> (expression  loop)\n",
    "    --> (expression  loop  if statement)\n",
    "    --> (expression loop loop)\n",
    "    --> (expression loop loop if statement)"
   ]
  },
  {
   "cell_type": "code",
   "execution_count": 65,
   "metadata": {},
   "outputs": [
    {
     "name": "stdout",
     "output_type": "stream",
     "text": [
      "[0, 1, 4, 9, 16, 25, 36, 49, 64, 81]\n",
      "[0, 4, 16, 36, 64]\n"
     ]
    }
   ],
   "source": [
    "## List comprehension\n",
    "\n",
    "Squares=[x**2 for x in range(10)]\n",
    "print(Squares)\n",
    "\n",
    "Squares=[x**2 for x in range(10) if x%2==0]\n",
    "print(Squares)"
   ]
  },
  {
   "cell_type": "code",
   "execution_count": 66,
   "metadata": {},
   "outputs": [
    {
     "name": "stdout",
     "output_type": "stream",
     "text": [
      "[[0, 0], [1, 1], [2, 4], [3, 9], [4, 16], [5, 25], [6, 36], [7, 49], [8, 64], [9, 81]]\n"
     ]
    }
   ],
   "source": [
    "# Nested comprehension\n",
    "\n",
    "list1=[x for x in range(10)]\n",
    "list2=[num**2 for num in range(10)]\n",
    "\n",
    "final=[[list1[x],list2[y]] for x in range(10) for y in range(10) if x==y]\n",
    "print(final)"
   ]
  },
  {
   "cell_type": "code",
   "execution_count": 67,
   "metadata": {},
   "outputs": [
    {
     "name": "stdout",
     "output_type": "stream",
     "text": [
      "[[1, 'a'], [1, 'b'], [1, 'c'], [2, 'a'], [2, 'b'], [2, 'c'], [3, 'a'], [3, 'b'], [3, 'c']]\n"
     ]
    }
   ],
   "source": [
    "# Nested Comprehension\n",
    "\n",
    "list1=[1,2,3]\n",
    "list2=['a','b','c']\n",
    "\n",
    "lastly=[[x,y] for x in list1 for y in list2]\n",
    "print (lastly)"
   ]
  }
 ],
 "metadata": {
  "kernelspec": {
   "display_name": "Python 3",
   "language": "python",
   "name": "python3"
  },
  "language_info": {
   "codemirror_mode": {
    "name": "ipython",
    "version": 3
   },
   "file_extension": ".py",
   "mimetype": "text/x-python",
   "name": "python",
   "nbconvert_exporter": "python",
   "pygments_lexer": "ipython3",
   "version": "3.12.0"
  }
 },
 "nbformat": 4,
 "nbformat_minor": 2
}
